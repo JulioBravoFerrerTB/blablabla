{
 "cells": [
  {
   "cell_type": "code",
   "execution_count": 1,
   "id": "0f0fbb29-feae-4b1d-bb22-10b98886d8fa",
   "metadata": {},
   "outputs": [],
   "source": [
    "import json\n"
   ]
  },
  {
   "cell_type": "code",
   "execution_count": 106,
   "id": "df83d693-6504-4a1f-b115-064d12e73dd0",
   "metadata": {},
   "outputs": [],
   "source": [
    "# Opening JSON file\n",
    "f = open('patata2.json')\n",
    "  \n",
    "# returns JSON object as \n",
    "# a dictionary\n",
    "data2 = json.load(f)"
   ]
  },
  {
   "cell_type": "code",
   "execution_count": 17,
   "id": "ebc5ea3c-6295-413a-a63c-d1c38d04ceb1",
   "metadata": {},
   "outputs": [],
   "source": [
    "Julio = data['USER']"
   ]
  },
  {
   "cell_type": "code",
   "execution_count": 18,
   "id": "dfe0546f-5532-4e0b-a161-3de77212310d",
   "metadata": {},
   "outputs": [],
   "source": [
    "CuartosJulio = data['CUARTOS']"
   ]
  },
  {
   "cell_type": "code",
   "execution_count": 19,
   "id": "fad3d5b1-75e0-4f4c-9a92-163f63a590e4",
   "metadata": {},
   "outputs": [],
   "source": [
    "SemisJulio =  data['SEMIS']"
   ]
  },
  {
   "cell_type": "code",
   "execution_count": 20,
   "id": "5080c7ed-2f23-40f2-bd52-437bcc79131d",
   "metadata": {},
   "outputs": [],
   "source": [
    "FinalJulio = data['FINAL']"
   ]
  },
  {
   "cell_type": "code",
   "execution_count": 21,
   "id": "8bb4d1ff-189e-4a3a-8c10-4d41dac2eabd",
   "metadata": {},
   "outputs": [],
   "source": [
    "CampeonJulio = data['CAMPEON']"
   ]
  },
  {
   "cell_type": "code",
   "execution_count": 22,
   "id": "8cc86343-1916-4e0b-991a-5b161b70fb1d",
   "metadata": {},
   "outputs": [],
   "source": [
    "cuartos = ['FRANCIA','ALEMANIA','UCRANIA','RUSIA','ESPAÑA','SUECIA','URUGUAY','ITALIA']"
   ]
  },
  {
   "cell_type": "code",
   "execution_count": 23,
   "id": "02222eec-1c1e-4bda-a11c-32e8e22cf4e2",
   "metadata": {},
   "outputs": [],
   "source": [
    "semis = ['FRANCIA','ESPAÑA','UCRANIA','SUECIA']"
   ]
  },
  {
   "cell_type": "code",
   "execution_count": 24,
   "id": "537d201d-8b56-401c-8dde-f749445c5e40",
   "metadata": {},
   "outputs": [],
   "source": [
    "finales = ['ESPAÑA','UCRANIA']"
   ]
  },
  {
   "cell_type": "code",
   "execution_count": 51,
   "id": "0771d735-7adf-4b8e-af01-67b5e6b89367",
   "metadata": {},
   "outputs": [],
   "source": [
    "campeon = 'ESPAÑA'"
   ]
  },
  {
   "cell_type": "code",
   "execution_count": 26,
   "id": "e975cc15-7b8f-4dab-88c9-141fb511663a",
   "metadata": {},
   "outputs": [
    {
     "data": {
      "text/plain": [
       "['FRANCIA',\n",
       " 'ALEMANIA',\n",
       " 'UCRANIA',\n",
       " 'RUSIA',\n",
       " 'ESPAÑA',\n",
       " 'SUECIA',\n",
       " 'URUGUAY',\n",
       " 'ITALIA']"
      ]
     },
     "execution_count": 26,
     "metadata": {},
     "output_type": "execute_result"
    }
   ],
   "source": [
    "cuartos"
   ]
  },
  {
   "cell_type": "code",
   "execution_count": 27,
   "id": "66d29cf4-a82d-4c1a-b129-b2f3b7e5dfe0",
   "metadata": {},
   "outputs": [
    {
     "data": {
      "text/plain": [
       "['ESPAÑA',\n",
       " 'BRASIL',\n",
       " 'SUIZA',\n",
       " 'MARRUECOS',\n",
       " 'FRANCIA',\n",
       " 'ARGENTINA',\n",
       " 'SUECIA',\n",
       " 'COLOMBIA']"
      ]
     },
     "execution_count": 27,
     "metadata": {},
     "output_type": "execute_result"
    }
   ],
   "source": [
    "CuartosJulio"
   ]
  },
  {
   "cell_type": "code",
   "execution_count": 28,
   "id": "36bff629-51d4-409c-90a1-cce34add87a8",
   "metadata": {},
   "outputs": [],
   "source": [
    "contadorcuartos = 0"
   ]
  },
  {
   "cell_type": "code",
   "execution_count": 29,
   "id": "0f449e96-1958-47b0-8ab9-d6bcef8c9a81",
   "metadata": {},
   "outputs": [],
   "source": [
    "for equipo in CuartosJulio:\n",
    "    if equipo in cuartos:\n",
    "        contadorcuartos += 1"
   ]
  },
  {
   "cell_type": "code",
   "execution_count": 30,
   "id": "452d65e0-e219-481f-ac87-fe42d55d8b59",
   "metadata": {},
   "outputs": [
    {
     "data": {
      "text/plain": [
       "3"
      ]
     },
     "execution_count": 30,
     "metadata": {},
     "output_type": "execute_result"
    }
   ],
   "source": [
    "contadorcuartos"
   ]
  },
  {
   "cell_type": "code",
   "execution_count": 40,
   "id": "29a206c6-cff1-4c92-9e6a-bd23227b5075",
   "metadata": {},
   "outputs": [],
   "source": [
    "contadorsemis = 0"
   ]
  },
  {
   "cell_type": "code",
   "execution_count": 41,
   "id": "a076b9e1-96f3-41cc-93e6-3cf91837533e",
   "metadata": {},
   "outputs": [],
   "source": [
    "for equipo2 in SemisJulio:\n",
    "    if equipo2 in semis:\n",
    "        contadorsemis += 1"
   ]
  },
  {
   "cell_type": "code",
   "execution_count": 43,
   "id": "1813f197-1022-4a7b-b23a-b5c15282ab8d",
   "metadata": {},
   "outputs": [
    {
     "data": {
      "text/plain": [
       "2"
      ]
     },
     "execution_count": 43,
     "metadata": {},
     "output_type": "execute_result"
    }
   ],
   "source": [
    "contadorsemis"
   ]
  },
  {
   "cell_type": "code",
   "execution_count": 44,
   "id": "44c33a76-73ed-4220-b28d-46bb68677277",
   "metadata": {},
   "outputs": [],
   "source": [
    "contadorfinal = 0"
   ]
  },
  {
   "cell_type": "code",
   "execution_count": 45,
   "id": "1823477a-c23b-4c57-bc11-29a5f400e94c",
   "metadata": {},
   "outputs": [],
   "source": [
    "for equipo3 in FinalJulio:\n",
    "    if equipo3 in finales:\n",
    "        contadorfinal+=1"
   ]
  },
  {
   "cell_type": "code",
   "execution_count": 46,
   "id": "19badcb3-b568-42a1-a42d-20789f6d6dce",
   "metadata": {},
   "outputs": [
    {
     "data": {
      "text/plain": [
       "1"
      ]
     },
     "execution_count": 46,
     "metadata": {},
     "output_type": "execute_result"
    }
   ],
   "source": [
    "contadorfinal"
   ]
  },
  {
   "cell_type": "code",
   "execution_count": 47,
   "id": "5973bba6-ffbb-43f3-9816-175d4e1bfb6f",
   "metadata": {},
   "outputs": [],
   "source": [
    "contadorchamp = 0"
   ]
  },
  {
   "cell_type": "code",
   "execution_count": 54,
   "id": "14a08dee-107b-4366-b0f4-7a59e89e9924",
   "metadata": {},
   "outputs": [],
   "source": [
    "if CampeonJulio == campeon:\n",
    "    contadorchamp += 1"
   ]
  },
  {
   "cell_type": "code",
   "execution_count": 55,
   "id": "2a2205f0-bdcc-4edd-9d38-7e7831a5879c",
   "metadata": {},
   "outputs": [
    {
     "data": {
      "text/plain": [
       "1"
      ]
     },
     "execution_count": 55,
     "metadata": {},
     "output_type": "execute_result"
    }
   ],
   "source": [
    "contadorchamp"
   ]
  },
  {
   "cell_type": "code",
   "execution_count": 56,
   "id": "747df11f-8be8-4ed9-a95c-74c0404d3a81",
   "metadata": {},
   "outputs": [
    {
     "data": {
      "text/plain": [
       "22"
      ]
     },
     "execution_count": 56,
     "metadata": {},
     "output_type": "execute_result"
    }
   ],
   "source": [
    "(contadorcuartos * 1)+ (contadorsemis * 2) + (contadorfinal * 5) + (contadorchamp * 10)"
   ]
  },
  {
   "cell_type": "code",
   "execution_count": 74,
   "id": "135dfa87-4a44-4745-b727-5a83e1181c84",
   "metadata": {},
   "outputs": [
    {
     "data": {
      "text/plain": [
       "{'Julio': {'CUATOS': ['ESPAÑA',\n",
       "   'BRASIL',\n",
       "   'SUIZA',\n",
       "   'MARRUECOS',\n",
       "   'FRANCIA',\n",
       "   'ARGENTINA',\n",
       "   'SUECIA',\n",
       "   'COLOMBIA'],\n",
       "  'SEMIS': ['ESPAÑA', 'SUECIA', 'ARGENTINA', 'COLOMBIA'],\n",
       "  'FINAL': ['ESPAÑA', 'SUECIA'],\n",
       "  'CAMPEON': 'ESPAÑA'}}"
      ]
     },
     "execution_count": 74,
     "metadata": {},
     "output_type": "execute_result"
    }
   ],
   "source": [
    "data"
   ]
  },
  {
   "cell_type": "code",
   "execution_count": 77,
   "id": "d9d2041d-a658-492d-b649-c519f640c29e",
   "metadata": {},
   "outputs": [],
   "source": [
    "usuarios = []"
   ]
  },
  {
   "cell_type": "code",
   "execution_count": 78,
   "id": "fbfe2a97-6de1-4998-9936-29c5b77c5c42",
   "metadata": {},
   "outputs": [],
   "source": [
    "usuarios.append(data['USER'])"
   ]
  },
  {
   "cell_type": "code",
   "execution_count": 81,
   "id": "62b67a11-4229-4372-a0ca-46456cdf043b",
   "metadata": {},
   "outputs": [],
   "source": [
    "dict_julio = {usuarios[0]:{'CUARTOS':data['CUARTOS'],\n",
    "                    'SEMIS':data['SEMIS'],\n",
    "                    'FINAL':data['FINAL'],\n",
    "                    'CAMPEON':data['CAMPEON']}}"
   ]
  },
  {
   "cell_type": "code",
   "execution_count": 88,
   "id": "6f7d147d-a46a-4287-ac4e-653ee30fa92e",
   "metadata": {},
   "outputs": [
    {
     "data": {
      "text/plain": [
       "{'Julio': {'CUARTOS': ['ESPAÑA',\n",
       "   'BRASIL',\n",
       "   'SUIZA',\n",
       "   'MARRUECOS',\n",
       "   'FRANCIA',\n",
       "   'ARGENTINA',\n",
       "   'SUECIA',\n",
       "   'COLOMBIA'],\n",
       "  'SEMIS': ['ESPAÑA', 'SUECIA', 'ARGENTINA', 'COLOMBIA'],\n",
       "  'FINAL': ['ESPAÑA', 'SUECIA'],\n",
       "  'CAMPEON': 'ESPAÑA'}}"
      ]
     },
     "execution_count": 88,
     "metadata": {},
     "output_type": "execute_result"
    }
   ],
   "source": [
    "dict_julio"
   ]
  },
  {
   "cell_type": "code",
   "execution_count": 96,
   "id": "ed137342-fbeb-42dc-a002-4d0345bac2ab",
   "metadata": {},
   "outputs": [
    {
     "data": {
      "text/plain": [
       "{'Julio': {'CUARTOS': ['ES', 'ES', 'ES', 'ES', 'ES', 'ES', 'ES', 'ES'],\n",
       "  'SEMIS': ['FR', 'FR', 'FR', 'FR'],\n",
       "  'FINAL': ['BR', 'BR'],\n",
       "  'CAMPEON': 'AR'}}"
      ]
     },
     "execution_count": 96,
     "metadata": {},
     "output_type": "execute_result"
    }
   ],
   "source": [
    "data"
   ]
  },
  {
   "cell_type": "code",
   "execution_count": 104,
   "id": "20a5dea6-ab84-4dcc-95f7-43627731fb17",
   "metadata": {},
   "outputs": [
    {
     "data": {
      "text/plain": [
       "['ESPAÑA',\n",
       " 'BRASIL',\n",
       " 'SUIZA',\n",
       " 'MARRUECOS',\n",
       " 'FRANCIA',\n",
       " 'ARGENTINA',\n",
       " 'SUECIA',\n",
       " 'COLOMBIA']"
      ]
     },
     "execution_count": 104,
     "metadata": {},
     "output_type": "execute_result"
    }
   ],
   "source": [
    "data['JulioBravo']['CUARTOS']"
   ]
  },
  {
   "cell_type": "code",
   "execution_count": 105,
   "id": "681a3c93-aef7-485e-9fdd-7b7d033c28b7",
   "metadata": {},
   "outputs": [
    {
     "data": {
      "text/plain": [
       "{'JulioBravo': {'CUARTOS': ['ESPAÑA',\n",
       "   'BRASIL',\n",
       "   'SUIZA',\n",
       "   'MARRUECOS',\n",
       "   'FRANCIA',\n",
       "   'ARGENTINA',\n",
       "   'SUECIA',\n",
       "   'COLOMBIA'],\n",
       "  'SEMIS': ['ESPAÑA', 'SUECIA', 'ARGENTINA', 'COLOMBIA'],\n",
       "  'FINAL': ['ESPAÑA', 'SUECIA'],\n",
       "  'CAMPEON': 'ESPAÑA'}}"
      ]
     },
     "execution_count": 105,
     "metadata": {},
     "output_type": "execute_result"
    }
   ],
   "source": [
    "data"
   ]
  },
  {
   "cell_type": "code",
   "execution_count": 108,
   "id": "3bde7f8f-97dd-440e-9039-99bdc06eaefe",
   "metadata": {},
   "outputs": [],
   "source": [
    "datos = [data,data2]"
   ]
  },
  {
   "cell_type": "code",
   "execution_count": 114,
   "id": "5d3421cb-3199-4b1b-aabf-b9652c6a8106",
   "metadata": {},
   "outputs": [
    {
     "data": {
      "text/plain": [
       "[{'JulioBravo': {'CUARTOS': ['ESPAÑA',\n",
       "    'BRASIL',\n",
       "    'SUIZA',\n",
       "    'MARRUECOS',\n",
       "    'FRANCIA',\n",
       "    'ARGENTINA',\n",
       "    'SUECIA',\n",
       "    'COLOMBIA'],\n",
       "   'SEMIS': ['ESPAÑA', 'SUECIA', 'ARGENTINA', 'COLOMBIA'],\n",
       "   'FINAL': ['ESPAÑA', 'SUECIA'],\n",
       "   'CAMPEON': 'ESPAÑA'}},\n",
       " {'Julio': {'CUARTOS': ['ES', 'ES', 'ES', 'ES', 'ES', 'ES', 'ES', 'ES'],\n",
       "   'SEMIS': ['FR', 'FR', 'FR', 'FR'],\n",
       "   'FINAL': ['BR', 'BR'],\n",
       "   'CAMPEON': 'AR'}}]"
      ]
     },
     "execution_count": 114,
     "metadata": {},
     "output_type": "execute_result"
    }
   ],
   "source": [
    "datos"
   ]
  },
  {
   "cell_type": "code",
   "execution_count": 203,
   "id": "a8a169cc-5f13-4ac3-ae17-54dc340b0d9c",
   "metadata": {},
   "outputs": [],
   "source": [
    "archivos = ['PorraJavi.json','JulioPorra.json']\n",
    "\n"
   ]
  },
  {
   "cell_type": "code",
   "execution_count": 204,
   "id": "6c8dfbfd-d9ba-4c8b-b37f-5964d79d17bd",
   "metadata": {},
   "outputs": [],
   "source": [
    "porras = []\n",
    "for porra in archivos:\n",
    "    f = open(porra)\n",
    "    data = json.load(f)\n",
    "    porras.append(data)\n",
    "\n"
   ]
  },
  {
   "cell_type": "code",
   "execution_count": 205,
   "id": "20fd752c-6226-4ad5-80b4-6af0cb49c70a",
   "metadata": {},
   "outputs": [
    {
     "data": {
      "text/plain": [
       "'Javier Delgado'"
      ]
     },
     "execution_count": 205,
     "metadata": {},
     "output_type": "execute_result"
    }
   ],
   "source": [
    "list(porras[0]['user'].keys())[0]"
   ]
  },
  {
   "cell_type": "code",
   "execution_count": 206,
   "id": "b86832e7-cfe6-4946-b5ab-2f1129d69386",
   "metadata": {},
   "outputs": [],
   "source": [
    "ls_patatas = []\n",
    "df_porras = {}\n",
    "x = 0\n",
    "for porra in porras:\n",
    "    ls_patatas.append((list(porra['user'].keys())[0]))\n",
    "    Cuartos = porra['user'][list(porra['user'].keys())[0]]['CUARTOS']\n",
    "    Semis = porra['user'][list(porra['user'].keys())[0]]['SEMIS']\n",
    "    Final = porra['user'][list(porra['user'].keys())[0]]['FINAL']\n",
    "    Campeon = porra['user'][list(porra['user'].keys())[0]]['CAMPEON']\n",
    "    df_cuartos = pd.DataFrame({'Cuartos1':Cuartos[:4],\n",
    "                               'Cuartos2':Cuartos[4:]})\n",
    "    df_semis = pd.DataFrame({'Semis1':Semis[:2],\n",
    "                             'Semis2':Semis[2:]})\n",
    "\n",
    "    df_final = pd.DataFrame({'Finalista1':Final[:1],\n",
    "                             'Finalista2':Final[1:]})\n",
    "    df_porras[ls_patatas[x]]={'CUARTOS': df_cuartos,\n",
    "                                    'SEMIS': df_semis,\n",
    "                                    'FINAL': df_final,\n",
    "                                    'CAMPEON': Campeon}\n",
    "    x+=1\n",
    "    "
   ]
  },
  {
   "cell_type": "code",
   "execution_count": 207,
   "id": "4b6c73d3-25f7-46db-bb3c-2c1671a19d07",
   "metadata": {},
   "outputs": [],
   "source": [
    "import pandas as pd"
   ]
  },
  {
   "cell_type": "code",
   "execution_count": 208,
   "id": "eb3fc28a-ce6d-4b95-8063-901daf0fa999",
   "metadata": {},
   "outputs": [],
   "source": [
    "Cuartos = porra['user'][list(porra['user'].keys())[0]]['CUARTOS']"
   ]
  },
  {
   "cell_type": "code",
   "execution_count": 209,
   "id": "5a4be8fa-88c6-4f48-9f34-a0d00a1b3fa0",
   "metadata": {},
   "outputs": [],
   "source": [
    "Semis = porra['user'][list(porra['user'].keys())[0]]['SEMIS']"
   ]
  },
  {
   "cell_type": "code",
   "execution_count": 210,
   "id": "34f7467f-08d8-47e1-b006-1ed845af1255",
   "metadata": {},
   "outputs": [],
   "source": [
    "Final = porra['user'][list(porra['user'].keys())[0]]['FINAL']"
   ]
  },
  {
   "cell_type": "code",
   "execution_count": 211,
   "id": "cd1c250e-8204-4674-986d-48eb6beabc1c",
   "metadata": {},
   "outputs": [],
   "source": [
    "Campeon = porra['user'][list(porra['user'].keys())[0]]['CAMPEON']"
   ]
  },
  {
   "cell_type": "code",
   "execution_count": 219,
   "id": "fc6ee992-86bc-4b15-8bab-12c73733b474",
   "metadata": {},
   "outputs": [
    {
     "data": {
      "text/plain": [
       "{'CUARTOS':     Cuartos1    Cuartos2\n",
       " 0    Holanda  Inglaterra\n",
       " 1  Argentina     Francia\n",
       " 2   Alemania      España\n",
       " 3     Brasil     Uruguay,\n",
       " 'SEMIS':       Semis1   Semis2\n",
       " 0  Argentina  Francia\n",
       " 1     Brasil   España,\n",
       " 'FINAL':   Finalista1 Finalista2\n",
       " 0  Argentina     España,\n",
       " 'CAMPEON': 'Argentina'}"
      ]
     },
     "execution_count": 219,
     "metadata": {},
     "output_type": "execute_result"
    }
   ],
   "source": [
    "df_porras['Javier Delgado']"
   ]
  },
  {
   "cell_type": "code",
   "execution_count": 213,
   "id": "dd45d4f3-b9e0-431c-b90b-3accac6af7ab",
   "metadata": {},
   "outputs": [
    {
     "data": {
      "text/plain": [
       "{'CUARTOS':     Cuartos1  Cuartos2\n",
       " 0    HOLANDA  PORTUGAL\n",
       " 1  ARGENTINA    ESPAÑA\n",
       " 2   ALEMANIA   FRANCIA\n",
       " 3    BELGICA    BRASIL,\n",
       " 'SEMIS':       Semis1    Semis2\n",
       " 0     BRASIL   FRANCIA\n",
       " 1  ARGENTINA  ALEMANIA,\n",
       " 'FINAL':   Finalista1 Finalista2\n",
       " 0     BRASIL    FRANCIA,\n",
       " 'CAMPEON': 'BRASIL'}"
      ]
     },
     "execution_count": 213,
     "metadata": {},
     "output_type": "execute_result"
    }
   ],
   "source": [
    "df_porras['Julio Bravo']"
   ]
  },
  {
   "cell_type": "code",
   "execution_count": null,
   "id": "ccf96c68-69e1-4592-908f-2f0a7692a9f3",
   "metadata": {},
   "outputs": [],
   "source": []
  }
 ],
 "metadata": {
  "kernelspec": {
   "display_name": "Python 3",
   "language": "python",
   "name": "python3"
  },
  "language_info": {
   "codemirror_mode": {
    "name": "ipython",
    "version": 3
   },
   "file_extension": ".py",
   "mimetype": "text/x-python",
   "name": "python",
   "nbconvert_exporter": "python",
   "pygments_lexer": "ipython3",
   "version": "3.8.8"
  }
 },
 "nbformat": 4,
 "nbformat_minor": 5
}
